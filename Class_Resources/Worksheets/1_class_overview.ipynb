{
 "cells": [
  {
   "cell_type": "markdown",
   "metadata": {},
   "source": [
    "# Introduction\n",
    "The focus of this class is on using the Python programming language and specialized packages to analyze and explore biological datasets.\n",
    "We will use the same tools in class that you will use when you, as a scientist, are working with your own data.\n",
    "\n",
    "My hope is that this class will be discussion oriented.\n",
    "I love to lecture, and if you don't stop me I will do so far too much. This would be bad. \n",
    "Come to class with questions. Ask them. If you don't understand something that comes up in class, ask. Others are probably having the same question. "
   ]
  },
  {
   "cell_type": "markdown",
   "metadata": {},
   "source": [
    "\n",
    "Our \"standard workflow\", to use bioinformatics jargon, will be:\n",
    "\n",
    "0. You will learn material outside of class through tutorials and worksheets (like this one). You **must** do this in order to be prepared for class. The class will move quickly, so be prepared. \n",
    "\n",
    "1. You will do regular homework. Some of this will be in the form of worksheets like this that you will turn in. Other homework will be be in the form of python programs that you will write and turn in.\n",
    "\n",
    "    a. If you are a graduate student, you will work on a project that you choose with my approval. This project should use what you are learning in the class on data from your lab. You will present these projects in the last few classes.\n",
    "    \n",
    "2. On Thursdays the classroom will be available after class until 17.00. You are welcome to use the classroom anytime it is available, also.\n",
    "\n",
    "3. Later in the semester, I hope to have more \"open labs\", where you can work on homework in class. \n",
    " \n",
    "\n",
    ">**NOTE:** you must be in class and you must be prepared or you will not learn the material. "
   ]
  },
  {
   "cell_type": "markdown",
   "metadata": {},
   "source": [
    "## To get this notebook\n",
    "\n",
    "```\n",
    "cmd-space (to open Spotlight)\n",
    "enter \"terminal\" (to find the terminal command)\n",
    "click on \"terminal\" (to start a terminal)\n",
    "navigate to the appropriate directory (should be *~/CompSkills_F18/Worksheets*)\n",
    "enter: \"jupyter notebook 1_\" and press tab-enter (because I'm lazy)\n",
    "Watch what happens (ask me if you really want to know)\n",
    "```"
   ]
  },
  {
   "cell_type": "markdown",
   "metadata": {},
   "source": [
    "## Keyboard and screen tips\n",
    "\n",
    "* In most cases, tab autocompletes, saving a lot of typing (you will love this)\n",
    "* In bash (in the terminal) the up/down arrow keys scroll backward/forward through the commands you have entered. This can save a lot of re-typing.\n",
    "* ctl-a isually goes to the beginning of a line\n",
    "* ctl-e usually goes to the end of a line\n",
    "* cmd-arrow jumps back (left arrow) or forward (right arrow) one word\n",
    "* ctl-C usually makes things stop, especially if your system hangs\n",
    "* ctl-Q stops whatever you're doing, the hard way\n",
    "* ctl-W closes a window (as does clicking on the red x)\n",
    "    \n",
    "To quit the mac, click on the apple in the upper left corner and select *log out*.\n",
    "\n",
    "To close a window, click on the red x x in its upper left hand corner.\n",
    "\n",
    "You can start apps by clicking on their icon.\n",
    "\n",
    "The Dock is a bar with icons for apps on it. It's usually at the bottom of the screen and pops up if you move the cursor to the bottom.\n",
    "\n",
    "To find things (like apps), enter cmd-space, then start typing the name of the thing you're looking for. This finds files, apps, and more. Just click on the item to open it.\n",
    "\n",
    "On the mac, the *Finder* (a stupid two-blue-colored smiley face) shows your files. \n",
    "\n",
    "The default web browser on mac is *Safari* (the blue compass icon)."
   ]
  },
  {
   "cell_type": "markdown",
   "metadata": {},
   "source": [
    "# Infrastructure for class\n",
    "\n",
    "Homework 0 comprises activities that set you up for this class. Be sure to do it asap.\n",
    "\n",
    "In particular, you will need some specific directories, and some git repos. See Homework 0."
   ]
  },
  {
   "cell_type": "markdown",
   "metadata": {},
   "source": [
    "You should make a copy of this notebook on your own machine, so you can change it. That way, you can try out the \"Do It\" sections. \n",
    "To do that:\n",
    "\n",
    "```\n",
    "cd ~/CompSkills_F18/*your sandbox*\n",
    "cp ~/CompSkills_F18/Class_Resources/Worksheets/1_class_overview.ipynb .\n",
    "```\n",
    "\n",
    "Then to open the notebook (see below on jupyter notebooks to see what this does):\n",
    "\n",
    "```\n",
    "jupyter notebook 1_class_class_overview.ipynb\n",
    "```"
   ]
  },
  {
   "cell_type": "markdown",
   "metadata": {},
   "source": [
    "# BASH, the Bourne Again Shell\n",
    "\n",
    "GUIs (all those pretty windows and icons) hide a lot of detail that you need to know to do serious bioinforamatics or data processing. You need direct access to the operating system (OS). To get that, you open a \"terminal\", which connects you directly to the OS via a command line. On most Unix systems, the command to open a terminal is:\n",
    "\n",
    ">terminal\n",
    "\n",
    "When the terminal opens, it runs a *shell*. A shell is a wrapper around a computer operating system that lets you interact directly with the computer. The wrapper has commands for the type of things you want to tell the OS to do. We will use *bash*, the Bourne Again Shell.\n",
    "\n",
    "The shell takes stuff from \"Standard Input\" (STDIN) and prints text to \"Standard Output\" (STDOUT).\n",
    "In the simplest case, the command line is where you enter stuff into STDIN. Press enter to send that to the shell. The shell sends it's response to your terminal. "
   ]
  },
  {
   "cell_type": "markdown",
   "metadata": {},
   "source": [
    "## Starting the shell in a terminal\n",
    "\n",
    "1. open a terminal. You CAN find the *terminal* program and click on it, but it's easier on a mac to:\n",
    "\n",
    "    a. Enter command-space (this puts you in Spotlight, which searches for stuff) \n",
    "    \n",
    "    b. Enter \"terminal\" (this finds the terminal program)\n",
    "    \n",
    "    c. Press enter (this runs the terminal program)\n",
    "    \n",
    "To close the shell, enter *exit*. To close the terminal (which also ends the shell), click on the red x in the upper left hand corner, or choose \"quit\" from the \"file\" menu, or type cmd-Q (\"cmd\" is the key with the strange hash-sign-with-loops to the left of the space bar).\n",
    "I recommend not exiting the shell without quitting the terminal.\n",
    "(but what happens if you do? Try it once!)"
   ]
  },
  {
   "cell_type": "markdown",
   "metadata": {},
   "source": [
    "## Bash commands, part 1\n",
    "Bash commands control your computer. Bash commands are usually just a few characters, and may be followed by \"modifiers\" (also known as \"flags\") that modify the behavior of the command. For example, enter *ls* to get a *l*i*s*t of the files in your current directory. Enter *ls -l* to get a *l*ong *l*i*s*t of your files. (ask my why bash commands are so short! I love to tell stories.)\n",
    "\n",
    "To get information on any command, use the *man* command. For example, *man ls* will tell you about the *ls* command. More on *man* below.\n",
    "\n",
    "Here we will present common commands to manipulate the file system (to create, delete, move, copy, and get information about, files). In a windows system, you would do these things in a directory manager, such as Finder (on macs). \n",
    "\n",
    "Unix files and directories are arranged hierarchically, like folders with folders and files in them. Each level of the hierarchy is separated by */* (slash).\n",
    "When you start the terminal, you are by default in your \"home directory\", also known as *~* (yes, the tilde character is a special file name). \n",
    "There is a single \"root\" directory for the entire computer, called */* (yes, a slash character is a name). \n",
    "Also, *.* and *..* are names for the current directory and the directory above the current one."
   ]
  },
  {
   "cell_type": "markdown",
   "metadata": {},
   "source": [
    "### Some useful bash commands:\n",
    "\n",
    "Command | what it does           | examples/Notes\n",
    ":------ |:---------------------- |:--------------------------------------\n",
    "ls      | list files in the current directory | *ls b\\** lists all files beginning with b\n",
    "        |                        | *ls -alt* (or *ls -lta*) long list of files sorted by timestamp\n",
    "        | | *ls ../..* list files in the grandparent directory\n",
    "pwd     | show current directory | show full path from system \"root\"\n",
    "cd dir | change directory to one named dir | *.* is the current directory, *..* is the next one up\n",
    " | | *cd* changes to your home directoery, *~*. so does *cd ~*\n",
    " | | *cd -* changes to the last directoery you were in\n",
    "mv from to| moves file or directory \"from\" to a new one named \"to\" | *mv old.name new.name* renames a file\n",
    "cp from to| copies file or directory \"from\" to a new one named \"to\" | *cp old.name backup.name* makes a copy of old.name\n",
    "mkdir dir | creates directory named dir in current directory | *mkdir foo/bar* creates bar in foo\n",
    "rmdir dir | removes directory dir (if it's empty) | *rmdir -rf dir* also removes all contents of dir (**dangerous**)\n",
    "rm file | deletes *file* | there is no recovery. there is no trash can. be careful.\n",
    "touch file | creates *file*, makes it empty  "
   ]
  },
  {
   "cell_type": "markdown",
   "metadata": {},
   "source": [
    "### Getting help within bash"
   ]
  },
  {
   "cell_type": "markdown",
   "metadata": {},
   "source": [
    "#### The *man* command\n",
    "\n",
    "*man* stands for \"manual. \n",
    "\n",
    "*man x* looks up \"x\" in \"the manual\", telling you everything about *x*.\n",
    "\n",
    "The display is actually a text editor on an un-changable file.\n",
    "You scroll throiugh the file by pressing space or n (to page forward) or b (to page backward). \n",
    "Enter Q to quit. \n",
    "You will see this editor again (hint, this is the format from the *less* command).\n",
    "(ask me why it doesn't just pop open a new window, if you don't see why.)\n",
    "\n",
    "The output is a complete description of the command you look up.\n",
    "It has lots of information, most of which you won't need. \n",
    "Familiarize yourself with the contents."
   ]
  },
  {
   "cell_type": "markdown",
   "metadata": {},
   "source": [
    "#### The *info* command\n",
    "\n",
    "*info* is an alternative to man. \n",
    "\n",
    "*info x* looks up \"x\" in \"the manual\", telling you everything about *x*.\n",
    "\n",
    "The display is actually a text editor on an un-changable file.\n",
    "This is a bit easier to use than man, because all the possible things you can do are listed at the bottom of the screen. \n",
    "\n",
    "The output is a complete description of the command you look up.\n",
    "It has lots of information, most of which you won't need. \n",
    "Familiarize yourself with the contents.\n",
    "\n",
    "I don't like *info* because it's too new-fangled. Too much like Windows before there were real windows. \n",
    "There are probably 21st century ways to get help (*google* anyone?), but I prefer to use tools like man and info that don't rely on having a connection and that are tailored for my specific environment.\n"
   ]
  },
  {
   "cell_type": "markdown",
   "metadata": {},
   "source": [
    "### Do it\n",
    "\n",
    "Poke around in the file system, using cd, pwd, ls, and such. \n",
    "What do you find? what happens if you look in someone else's home directory? What sort of things are at the system root?\n",
    "\n",
    "Look up some of the commands in \"the manual\". "
   ]
  },
  {
   "cell_type": "markdown",
   "metadata": {},
   "source": [
    "# Jupyter notebooks\n",
    "\n",
    "You are reading a jupyter notebook. \n",
    "Notebooks are tools for developing code and presenting text. \n",
    "\n",
    "The notebook has \"cells\" where you enter code or text. \n",
    "We will use *python code* in the code cells, and will format text with *markdown* (both discussed below.\n",
    "\n",
    "To do what is in a cell (running code for \"code\" cells or formatting text for \"markdown\" cells), press <shift><enter>"
   ]
  },
  {
   "cell_type": "markdown",
   "metadata": {},
   "source": [
    "## Creating/editing notebooks\n",
    "Run a jupyter notebook *server* from the command line:\n",
    "\n",
    "0. open a terminal\n",
    "1. move to the directory you want\n",
    "2. enter ```jupyter notebook```\n",
    "3. open or create a notebook by clicking on *File*\n",
    "\n",
    "To enter a new cell, click the \"+\" button, or enter esc-b (for \"**b**elow\"\n",
    "\n",
    "To edit a cell, double click on it.\n",
    "\n",
    "To execute a cell (format text or run code), press shift-enter."
   ]
  },
  {
   "cell_type": "markdown",
   "metadata": {},
   "source": [
    "### do it\n",
    "\n",
    "1. Create a notebook called \"Learning_Jupyter\" in *~/Comp_Skills_F18* somewhere. \n",
    "\n",
    "If you created a *~/Comp_Skills_F18/sandbox* or similar directory in HW0 (as I recommended), this would be a good location.\n",
    "\n",
    "2. Add some markdown (next section) test. Be sure to create markedown cells, using \"+\" to create the cell and the dropdown box at the top to make it a markdown cell. Press <shift><enter> to get the formatting.\n",
    "    \n",
    "3. Create a \"code\" cell. Copy and paste the following into it (delete spaces if you need to, so that all the lines are flush left). Press <shift><enter>. You just ran your first python program.\n",
    "\n",
    "\n",
    "`\n",
    "greeting = 'hello'\n",
    "subject = 'world'\n",
    "print(greeting, subject)\n",
    "`"
   ]
  },
  {
   "cell_type": "markdown",
   "metadata": {},
   "source": [
    "# Markdown\n",
    "Markdown is a simple way to format text. It is like html or xml (which are used to format webpages, among other things), but is much simpler.\n",
    "\n",
    "To use markdown:\n",
    "1. create a cell in your notebook\n",
    "2. From the dropdown at the top of the page, select \"Markdown\"\n",
    "3. Enter your text with markup (*Help* at the top has a summary of markdown format)\n",
    "4. Format by pressing shift-enter"
   ]
  },
  {
   "cell_type": "markdown",
   "metadata": {},
   "source": [
    "### Do it\n",
    "In your *Learning_Jupyter* notebook:\n",
    "\n",
    "1. enter a text cell or cells (I recommend a different cell for each heading) with the following outline:\n",
    "\n",
    "```\n",
    "Introduction\n",
    "    Practicing markup\n",
    "    Adding code\n",
    "```\n",
    "\n",
    "2. In the *Introduction* add text to remind yourself what you're doing (learning Jupyter)\n",
    "3. in *Practicing markup* add some text that uses highlighting, bulleted lists, and numbered lists. \n",
    "4. After \"Adding code\" enter a new code cell (select *code* from the dropdown box at the top).\n",
    "5. In this cell, add the line\n",
    "\n",
    ">%ls lat\n",
    "\n",
    "6. Format and save the notebook.\n",
    "7. Log out from the server.\n",
    "8. Close your terminal window\n",
    "\n",
    "What did that code cell do?"
   ]
  },
  {
   "cell_type": "markdown",
   "metadata": {},
   "source": [
    "# Git\n",
    "\n",
    "Git is the most commonly used *version control system*. \n",
    "With git, you keep track of different versions of files, timestamp changes, roll back changes if necessary, and share versions of your files with others.\n",
    "Git is designed for team sharing. \n",
    "\n",
    "We will use *git* to share course materials and to share and turn in homework.\n",
    "\n",
    "A *git repository* (aka \"repo\") is a collection of files that the git program keeps track of, along with a history of all changes\n",
    "and associated statistics. \n",
    "One should have separate repositories for separate projects, such as research projects, classes, notes, manuscripts, or software. \n",
    "Many labs have one git repo for the lab, or one for each project in the lab. \n",
    "\n",
    "*github* is an online collection of git repos (see https://github.com). \n",
    "Repos may exist on dedicated servers (check out https://github.com/ibest/ to see the software developed by IBEST, for example) or even on individual workstations. \n",
    "\n",
    "You access git repos with git client software or via the *git* command on the command line. \n",
    "Most online tutorials use the command line, since that has the most power and flexibility. \n",
    "We will use the github website (https://github.com) and the desktop version of github, *Github Desktop*.\n",
    "\n",
    "For this course, you will use two git repos, one (a public one) for course materials, and one (private) for your homework and other assignments. See Homework 0. "
   ]
  },
  {
   "cell_type": "code",
   "execution_count": null,
   "metadata": {},
   "outputs": [],
   "source": []
  }
 ],
 "metadata": {
  "anaconda-cloud": {},
  "kernelspec": {
   "display_name": "Python [default]",
   "language": "python",
   "name": "python3"
  },
  "language_info": {
   "codemirror_mode": {
    "name": "ipython",
    "version": 3
   },
   "file_extension": ".py",
   "mimetype": "text/x-python",
   "name": "python",
   "nbconvert_exporter": "python",
   "pygments_lexer": "ipython3",
   "version": "3.5.5"
  },
  "latex_envs": {
   "bibliofile": "biblio.bib",
   "cite_by": "apalike",
   "current_citInitial": 1,
   "eqLabelWithNumbers": true,
   "eqNumInitial": 0
  }
 },
 "nbformat": 4,
 "nbformat_minor": 2
}
